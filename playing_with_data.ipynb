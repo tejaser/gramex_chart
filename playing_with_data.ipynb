{
 "cells": [
  {
   "cell_type": "code",
   "execution_count": 1,
   "metadata": {},
   "outputs": [],
   "source": [
    "import pandas as pd\n",
    "import json"
   ]
  },
  {
   "cell_type": "code",
   "execution_count": 25,
   "metadata": {},
   "outputs": [],
   "source": [
    "data = pd.read_csv('./data/Products_1320.csv')"
   ]
  },
  {
   "cell_type": "code",
   "execution_count": 26,
   "metadata": {},
   "outputs": [
    {
     "data": {
      "text/plain": [
       "QUANTITY        439\n",
       "PRODUCT_NAME    439\n",
       "TOT_PRICE       439\n",
       "PRICE           439\n",
       "DEVICE          439\n",
       "COUNTRY_NAME    439\n",
       "DAY             439\n",
       "CLICK_SOURCE    439\n",
       "PPC_TYPE        186\n",
       "dtype: int64"
      ]
     },
     "execution_count": 26,
     "metadata": {},
     "output_type": "execute_result"
    }
   ],
   "source": [
    "data.count()"
   ]
  },
  {
   "cell_type": "code",
   "execution_count": 27,
   "metadata": {},
   "outputs": [
    {
     "data": {
      "text/html": [
       "<div>\n",
       "<style scoped>\n",
       "    .dataframe tbody tr th:only-of-type {\n",
       "        vertical-align: middle;\n",
       "    }\n",
       "\n",
       "    .dataframe tbody tr th {\n",
       "        vertical-align: top;\n",
       "    }\n",
       "\n",
       "    .dataframe thead th {\n",
       "        text-align: right;\n",
       "    }\n",
       "</style>\n",
       "<table border=\"1\" class=\"dataframe\">\n",
       "  <thead>\n",
       "    <tr style=\"text-align: right;\">\n",
       "      <th></th>\n",
       "      <th>QUANTITY</th>\n",
       "      <th>PRODUCT_NAME</th>\n",
       "      <th>TOT_PRICE</th>\n",
       "      <th>PRICE</th>\n",
       "      <th>DEVICE</th>\n",
       "      <th>COUNTRY_NAME</th>\n",
       "      <th>DAY</th>\n",
       "      <th>CLICK_SOURCE</th>\n",
       "      <th>PPC_TYPE</th>\n",
       "    </tr>\n",
       "  </thead>\n",
       "  <tbody>\n",
       "    <tr>\n",
       "      <th>0</th>\n",
       "      <td>2</td>\n",
       "      <td>100 piece 3-1/8 ball pit balls</td>\n",
       "      <td>78</td>\n",
       "      <td>39</td>\n",
       "      <td>DESKTOP</td>\n",
       "      <td>United States</td>\n",
       "      <td>Friday</td>\n",
       "      <td>ORGANIC</td>\n",
       "      <td>Bing</td>\n",
       "    </tr>\n",
       "    <tr>\n",
       "      <th>1</th>\n",
       "      <td>17</td>\n",
       "      <td>100 piece 3-1/8 ball pit balls</td>\n",
       "      <td>663</td>\n",
       "      <td>39</td>\n",
       "      <td>DESKTOP</td>\n",
       "      <td>United States</td>\n",
       "      <td>Sunday</td>\n",
       "      <td>ORGANIC</td>\n",
       "      <td>Bing</td>\n",
       "    </tr>\n",
       "    <tr>\n",
       "      <th>2</th>\n",
       "      <td>2</td>\n",
       "      <td>adjustable classroom chair</td>\n",
       "      <td>794</td>\n",
       "      <td>397</td>\n",
       "      <td>DESKTOP</td>\n",
       "      <td>United States</td>\n",
       "      <td>Tuesday</td>\n",
       "      <td>Direct</td>\n",
       "      <td>NaN</td>\n",
       "    </tr>\n",
       "    <tr>\n",
       "      <th>3</th>\n",
       "      <td>14</td>\n",
       "      <td>adl universal cuff utensil holder</td>\n",
       "      <td>154</td>\n",
       "      <td>11</td>\n",
       "      <td>DESKTOP</td>\n",
       "      <td>United States</td>\n",
       "      <td>Saturday</td>\n",
       "      <td>ORGANIC</td>\n",
       "      <td>Bing</td>\n",
       "    </tr>\n",
       "    <tr>\n",
       "      <th>4</th>\n",
       "      <td>17</td>\n",
       "      <td>adult mealtime bibs</td>\n",
       "      <td>204</td>\n",
       "      <td>12</td>\n",
       "      <td>DESKTOP</td>\n",
       "      <td>United States</td>\n",
       "      <td>Sunday</td>\n",
       "      <td>ORGANIC</td>\n",
       "      <td>Bing</td>\n",
       "    </tr>\n",
       "  </tbody>\n",
       "</table>\n",
       "</div>"
      ],
      "text/plain": [
       "   QUANTITY                       PRODUCT_NAME  TOT_PRICE  PRICE   DEVICE  \\\n",
       "0         2     100 piece 3-1/8 ball pit balls         78     39  DESKTOP   \n",
       "1        17     100 piece 3-1/8 ball pit balls        663     39  DESKTOP   \n",
       "2         2         adjustable classroom chair        794    397  DESKTOP   \n",
       "3        14  adl universal cuff utensil holder        154     11  DESKTOP   \n",
       "4        17                adult mealtime bibs        204     12  DESKTOP   \n",
       "\n",
       "    COUNTRY_NAME       DAY CLICK_SOURCE PPC_TYPE  \n",
       "0  United States    Friday      ORGANIC     Bing  \n",
       "1  United States    Sunday      ORGANIC     Bing  \n",
       "2  United States   Tuesday       Direct      NaN  \n",
       "3  United States  Saturday      ORGANIC     Bing  \n",
       "4  United States    Sunday      ORGANIC     Bing  "
      ]
     },
     "execution_count": 27,
     "metadata": {},
     "output_type": "execute_result"
    }
   ],
   "source": [
    "data.head()"
   ]
  },
  {
   "cell_type": "code",
   "execution_count": 28,
   "metadata": {},
   "outputs": [],
   "source": [
    "df = data[data['CLICK_SOURCE'] != 'Direct']"
   ]
  },
  {
   "cell_type": "code",
   "execution_count": 29,
   "metadata": {},
   "outputs": [
    {
     "data": {
      "text/html": [
       "<div>\n",
       "<style scoped>\n",
       "    .dataframe tbody tr th:only-of-type {\n",
       "        vertical-align: middle;\n",
       "    }\n",
       "\n",
       "    .dataframe tbody tr th {\n",
       "        vertical-align: top;\n",
       "    }\n",
       "\n",
       "    .dataframe thead th {\n",
       "        text-align: right;\n",
       "    }\n",
       "</style>\n",
       "<table border=\"1\" class=\"dataframe\">\n",
       "  <thead>\n",
       "    <tr style=\"text-align: right;\">\n",
       "      <th></th>\n",
       "      <th>QUANTITY</th>\n",
       "      <th>PRODUCT_NAME</th>\n",
       "      <th>TOT_PRICE</th>\n",
       "      <th>PRICE</th>\n",
       "      <th>DEVICE</th>\n",
       "      <th>COUNTRY_NAME</th>\n",
       "      <th>DAY</th>\n",
       "      <th>CLICK_SOURCE</th>\n",
       "      <th>PPC_TYPE</th>\n",
       "    </tr>\n",
       "  </thead>\n",
       "  <tbody>\n",
       "    <tr>\n",
       "      <th>0</th>\n",
       "      <td>2</td>\n",
       "      <td>100 piece 3-1/8 ball pit balls</td>\n",
       "      <td>78</td>\n",
       "      <td>39</td>\n",
       "      <td>DESKTOP</td>\n",
       "      <td>United States</td>\n",
       "      <td>Friday</td>\n",
       "      <td>ORGANIC</td>\n",
       "      <td>Bing</td>\n",
       "    </tr>\n",
       "    <tr>\n",
       "      <th>1</th>\n",
       "      <td>17</td>\n",
       "      <td>100 piece 3-1/8 ball pit balls</td>\n",
       "      <td>663</td>\n",
       "      <td>39</td>\n",
       "      <td>DESKTOP</td>\n",
       "      <td>United States</td>\n",
       "      <td>Sunday</td>\n",
       "      <td>ORGANIC</td>\n",
       "      <td>Bing</td>\n",
       "    </tr>\n",
       "    <tr>\n",
       "      <th>3</th>\n",
       "      <td>14</td>\n",
       "      <td>adl universal cuff utensil holder</td>\n",
       "      <td>154</td>\n",
       "      <td>11</td>\n",
       "      <td>DESKTOP</td>\n",
       "      <td>United States</td>\n",
       "      <td>Saturday</td>\n",
       "      <td>ORGANIC</td>\n",
       "      <td>Bing</td>\n",
       "    </tr>\n",
       "    <tr>\n",
       "      <th>4</th>\n",
       "      <td>17</td>\n",
       "      <td>adult mealtime bibs</td>\n",
       "      <td>204</td>\n",
       "      <td>12</td>\n",
       "      <td>DESKTOP</td>\n",
       "      <td>United States</td>\n",
       "      <td>Sunday</td>\n",
       "      <td>ORGANIC</td>\n",
       "      <td>Bing</td>\n",
       "    </tr>\n",
       "    <tr>\n",
       "      <th>9</th>\n",
       "      <td>2</td>\n",
       "      <td>arks grabber®</td>\n",
       "      <td>16</td>\n",
       "      <td>8</td>\n",
       "      <td>MOBILE</td>\n",
       "      <td>United States</td>\n",
       "      <td>Tuesday</td>\n",
       "      <td>ORGANIC</td>\n",
       "      <td>Google</td>\n",
       "    </tr>\n",
       "  </tbody>\n",
       "</table>\n",
       "</div>"
      ],
      "text/plain": [
       "   QUANTITY                       PRODUCT_NAME  TOT_PRICE  PRICE   DEVICE  \\\n",
       "0         2     100 piece 3-1/8 ball pit balls         78     39  DESKTOP   \n",
       "1        17     100 piece 3-1/8 ball pit balls        663     39  DESKTOP   \n",
       "3        14  adl universal cuff utensil holder        154     11  DESKTOP   \n",
       "4        17                adult mealtime bibs        204     12  DESKTOP   \n",
       "9         2                      arks grabber®         16      8   MOBILE   \n",
       "\n",
       "    COUNTRY_NAME       DAY CLICK_SOURCE PPC_TYPE  \n",
       "0  United States    Friday      ORGANIC     Bing  \n",
       "1  United States    Sunday      ORGANIC     Bing  \n",
       "3  United States  Saturday      ORGANIC     Bing  \n",
       "4  United States    Sunday      ORGANIC     Bing  \n",
       "9  United States   Tuesday      ORGANIC   Google  "
      ]
     },
     "execution_count": 29,
     "metadata": {},
     "output_type": "execute_result"
    }
   ],
   "source": [
    "df.head()"
   ]
  },
  {
   "cell_type": "code",
   "execution_count": 30,
   "metadata": {},
   "outputs": [],
   "source": [
    "records = df.to_json(path_or_buf = None, orient = 'records', date_format = 'epoch', double_precision = 10, force_ascii = True, date_unit = 'ms', default_handler = None)"
   ]
  },
  {
   "cell_type": "code",
   "execution_count": 31,
   "metadata": {},
   "outputs": [
    {
     "data": {
      "text/plain": [
       "'[{\"QUANTITY\":2,\"PRODUCT_NAME\":\"100 piece 3-1\\\\/8 ball pit balls\",\"TOT_PRICE\":78,\"PRICE\":39,\"DEVICE\":\"DESKTOP\",\"COUNTRY_NAME\":\"United States\",\"DAY\":\"Friday\",\"CLICK_SOURCE\":\"ORGANIC\",\"PPC_TYPE\":\"Bing\"},{\"QUANTITY\":17,\"PRODUCT_NAME\":\"100 piece 3-1\\\\/8 ball pit balls\",\"TOT_PRICE\":663,\"PRICE\":39,\"DEVICE\":\"DESKTOP\",\"COUNTRY_NAME\":\"United States\",\"DAY\":\"Sunday\",\"CLICK_SOURCE\":\"ORGANIC\",\"PPC_TYPE\":\"Bing\"},{\"QUANTITY\":14,\"PRODUCT_NAME\":\"adl universal cuff utensil holder\",\"TOT_PRICE\":154,\"PRICE\":11,\"DEVICE\":\"DESKTOP\",\"COUNTRY_NAME\":\"United States\",\"DAY\":\"Saturday\",\"CLICK_SOURCE\":\"ORGANIC\",\"PPC_TYPE\":\"Bing\"},{\"QUANTITY\":17,\"PRODUCT_NAME\":\"adult mealtime bibs\",\"TOT_PRICE\":204,\"PRICE\":12,\"DEVICE\":\"DESKTOP\",\"COUNTRY_NAME\":\"United States\",\"DAY\":\"Sunday\",\"CLICK_SOURCE\":\"ORGANIC\",\"PPC_TYPE\":\"Bing\"},{\"QUANTITY\":2,\"PRODUCT_NAME\":\"arks grabber\\\\u00ae\",\"TOT_PRICE\":16,\"PRICE\":8,\"DEVICE\":\"MOBILE\",\"COUNTRY_NAME\":\"United States\",\"DAY\":\"Tuesday\",\"CLICK_SOURCE\":\"ORGANIC\",\"PPC_TYPE\":\"Google\"},{\"QUANTITY\":21,\"PRODUCT_NAME\":\"arks z-vibe\\\\u00ae travel kit\",\"TOT_PRICE\":1155,\"PRICE\":55,\"DEVICE\":\"DESKTOP\",\"COUNTRY_NAME\":\"United States\",\"DAY\":\"Saturday\",\"CLICK_SOURCE\":\"ORGANIC\",\"PPC_TYPE\":\"Google\"},{\"QUANTITY\":9,\"PRODUCT_NAME\":\"arthro thumbs-up cup with lid\",\"TOT_PRICE\":171,\"PRICE\":19,\"DEVICE\":\"DESKTOP\",\"COUNTRY_NAME\":\"Germany\",\"DAY\":\"Thursday\",\"CLICK_SOURCE\":\"ORGANIC\",\"PPC_TYPE\":\"Bing\"},{\"QUANTITY\":4,\"PRODUCT_NAME\":\"atn (all-through-the-night) disposable fitted diapers\",\"TOT_PRICE\":328,\"PRICE\":82,\"DEVICE\":\"DESKTOP\",\"COUNTRY_NAME\":\"United States\",\"DAY\":\"Friday\",\"CLICK_SOURCE\":\"ORGANIC\",\"PPC_TYPE\":\"Google\"},{\"QUANTITY\":1,\"PRODUCT_NAME\":\"atn (all-through-the-night) disposable fitted diapers\",\"TOT_PRICE\":82,\"PRICE\":82,\"DEVICE\":\"DESKTOP\",\"COUNTRY_NAME\":\"United States\",\"DAY\":\"Tuesday\",\"CLICK_SOURCE\":\"ORGANIC\",\"PPC_TYPE\":\"Yahoo\"},{\"QUANTITY\":8,\"PRODUCT_NAME\":\"atn (all-through-the-night) disposable fitted diapers\",\"TOT_PRICE\":656,\"PRICE\":82,\"DEVICE\":\"MOBILE\",\"COUNTRY_NAME\":\"United States\",\"DAY\":\"Thursday\",\"CLICK_SOURCE\":\"PPC\",\"PPC_TYPE\":\"Google\"},{\"QUANTITY\":1,\"PRODUCT_NAME\":\"bailey height adjustable t-stool\",\"TOT_PRICE\":66,\"PRICE\":66,\"DEVICE\":\"DESKTOP\",\"COUNTRY_NAME\":\"United States\",\"DAY\":\"Wednesday\",\"CLICK_SOURCE\":\"ORGANIC\",\"PPC_TYPE\":\"Google\"},{\"QUANTITY\":1,\"PRODUCT_NAME\":\"ball pit crash pad\",\"TOT_PRICE\":238,\"PRICE\":238,\"DEVICE\":\"MOBILE\",\"COUNTRY_NAME\":\"United States\",\"DAY\":\"Saturday\",\"CLICK_SOURCE\":\"ORGANIC\",\"PPC_TYPE\":\"Google\"},{\"QUANTITY\":10,\"PRODUCT_NAME\":\"ball pit crash pad\",\"TOT_PRICE\":1580,\"PRICE\":158,\"DEVICE\":\"MOBILE\",\"COUNTRY_NAME\":\"United States\",\"DAY\":\"Thursday\",\"CLICK_SOURCE\":\"ORGANIC\",\"PPC_TYPE\":\"Google\"},{\"QUANTITY\":2,\"PRODUCT_NAME\":\"ball pit crash pad\",\"TOT_PRICE\":226,\"PRICE\":113,\"DEVICE\":\"MOBILE\",\"COUNTRY_NAME\":\"United States\",\"DAY\":\"Tuesday\",\"CLICK_SOURCE\":\"ORGANIC\",\"PPC_TYPE\":\"Google\"},{\"QUANTITY\":18,\"PRODUCT_NAME\":\"bed tray\",\"TOT_PRICE\":360,\"PRICE\":20,\"DEVICE\":\"MOBILE\",\"COUNTRY_NAME\":\"United States\",\"DAY\":\"Friday\",\"CLICK_SOURCE\":\"ORGANIC\",\"PPC_TYPE\":\"Google\"},{\"QUANTITY\":12,\"PRODUCT_NAME\":\"better board slant board\",\"TOT_PRICE\":204,\"PRICE\":17,\"DEVICE\":\"DESKTOP\",\"COUNTRY_NAME\":\"United States\",\"DAY\":\"Wednesday\",\"CLICK_SOURCE\":\"ORGANIC\",\"PPC_TYPE\":\"Google\"},{\"QUANTITY\":10,\"PRODUCT_NAME\":\"bigmack communicator\",\"TOT_PRICE\":1350,\"PRICE\":135,\"DEVICE\":\"MOBILE\",\"COUNTRY_NAME\":\"United States\",\"DAY\":\"Thursday\",\"CLICK_SOURCE\":\"ORGANIC\",\"PPC_TYPE\":\"Google\"},{\"QUANTITY\":8,\"PRODUCT_NAME\":\"bodysox\",\"TOT_PRICE\":264,\"PRICE\":33,\"DEVICE\":\"DESKTOP\",\"COUNTRY_NAME\":\"United States\",\"DAY\":\"Thursday\",\"CLICK_SOURCE\":\"ORGANIC\",\"PPC_TYPE\":\"Google\"},{\"QUANTITY\":8,\"PRODUCT_NAME\":\"bubble tube with platform\",\"TOT_PRICE\":9608,\"PRICE\":1201,\"DEVICE\":\"DESKTOP\",\"COUNTRY_NAME\":\"United States\",\"DAY\":\"Thursday\",\"CLICK_SOURCE\":\"PPC\",\"PPC_TYPE\":\"Google\"},{\"QUANTITY\":8,\"PRODUCT_NAME\":\"buckleroo seat belt buckle guard\",\"TOT_PRICE\":96,\"PRICE\":12,\"DEVICE\":\"DESKTOP\",\"COUNTRY_NAME\":\"Australia\",\"DAY\":\"Sunday\",\"CLICK_SOURCE\":\"ORGANIC\",\"PPC_TYPE\":\"Google\"},{\"QUANTITY\":28,\"PRODUCT_NAME\":\"buckleroo seat belt buckle guard\",\"TOT_PRICE\":336,\"PRICE\":12,\"DEVICE\":\"MOBILE\",\"COUNTRY_NAME\":\"United States\",\"DAY\":\"Monday\",\"CLICK_SOURCE\":\"ORGANIC\",\"PPC_TYPE\":\"Yahoo\"},{\"QUANTITY\":6,\"PRODUCT_NAME\":\"buckleroo seat belt buckle guard\",\"TOT_PRICE\":72,\"PRICE\":12,\"DEVICE\":\"MOBILE\",\"COUNTRY_NAME\":\"United States\",\"DAY\":\"Saturday\",\"CLICK_SOURCE\":\"ORGANIC\",\"PPC_TYPE\":\"Google\"},{\"QUANTITY\":8,\"PRODUCT_NAME\":\"buckleroo seat belt buckle guard\",\"TOT_PRICE\":96,\"PRICE\":12,\"DEVICE\":\"MOBILE\",\"COUNTRY_NAME\":\"United States\",\"DAY\":\"Thursday\",\"CLICK_SOURCE\":\"ORGANIC\",\"PPC_TYPE\":\"Google\"},{\"QUANTITY\":6,\"PRODUCT_NAME\":\"chewy stick - textured\",\"TOT_PRICE\":72,\"PRICE\":12,\"DEVICE\":\"MOBILE\",\"COUNTRY_NAME\":\"United States\",\"DAY\":\"Thursday\",\"CLICK_SOURCE\":\"ORGANIC\",\"PPC_TYPE\":\"Google\"},{\"QUANTITY\":1,\"PRODUCT_NAME\":\"comfy coaster swing\",\"TOT_PRICE\":73,\"PRICE\":73,\"DEVICE\":\"DESKTOP\",\"COUNTRY_NAME\":\"United States\",\"DAY\":\"Tuesday\",\"CLICK_SOURCE\":\"ORGANIC\",\"PPC_TYPE\":\"Google\"},{\"QUANTITY\":2,\"PRODUCT_NAME\":\"convaid cruiser transit stroller\",\"TOT_PRICE\":5826,\"PRICE\":2913,\"DEVICE\":\"DESKTOP\",\"COUNTRY_NAME\":\"United States\",\"DAY\":\"Wednesday\",\"CLICK_SOURCE\":\"ORGANIC\",\"PPC_TYPE\":\"Google\"},{\"QUANTITY\":2,\"PRODUCT_NAME\":\"crash pad\",\"TOT_PRICE\":252,\"PRICE\":126,\"DEVICE\":\"DESKTOP\",\"COUNTRY_NAME\":\"United States\",\"DAY\":\"Tuesday\",\"CLICK_SOURCE\":\"ORGANIC\",\"PPC_TYPE\":\"Google\"},{\"QUANTITY\":2,\"PRODUCT_NAME\":\"crazy aarons thinking putty - precious\",\"TOT_PRICE\":20,\"PRICE\":10,\"DEVICE\":\"DESKTOP\",\"COUNTRY_NAME\":\"United States\",\"DAY\":\"Monday\",\"CLICK_SOURCE\":\"ORGANIC\",\"PPC_TYPE\":\"Bing\"},{\"QUANTITY\":27,\"PRODUCT_NAME\":\"cylindrical foam padding\",\"TOT_PRICE\":378,\"PRICE\":14,\"DEVICE\":\"DESKTOP\",\"COUNTRY_NAME\":\"Germany\",\"DAY\":\"Thursday\",\"CLICK_SOURCE\":\"ORGANIC\",\"PPC_TYPE\":\"Bing\"},{\"QUANTITY\":2,\"PRODUCT_NAME\":\"cylindrical foam padding\",\"TOT_PRICE\":28,\"PRICE\":14,\"DEVICE\":\"DESKTOP\",\"COUNTRY_NAME\":\"United States\",\"DAY\":\"Thursday\",\"CLICK_SOURCE\":\"ORGANIC\",\"PPC_TYPE\":\"Bing\"},{\"QUANTITY\":2,\"PRODUCT_NAME\":\"cylindrical foam padding\",\"TOT_PRICE\":28,\"PRICE\":14,\"DEVICE\":\"DESKTOP\",\"COUNTRY_NAME\":\"United States\",\"DAY\":\"Tuesday\",\"CLICK_SOURCE\":\"ORGANIC\",\"PPC_TYPE\":\"Google\"},{\"QUANTITY\":1,\"PRODUCT_NAME\":\"disposable swim diapers\",\"TOT_PRICE\":6,\"PRICE\":6,\"DEVICE\":\"DESKTOP\",\"COUNTRY_NAME\":\"Norway\",\"DAY\":\"Tuesday\",\"CLICK_SOURCE\":\"ORGANIC\",\"PPC_TYPE\":\"Facebook\"},{\"QUANTITY\":4,\"PRODUCT_NAME\":\"divided plate & vacuum base\",\"TOT_PRICE\":132,\"PRICE\":33,\"DEVICE\":\"DESKTOP\",\"COUNTRY_NAME\":\"United States\",\"DAY\":\"Friday\",\"CLICK_SOURCE\":\"ORGANIC\",\"PPC_TYPE\":\"Bing\"},{\"QUANTITY\":10,\"PRODUCT_NAME\":\"divided plate & vacuum base\",\"TOT_PRICE\":330,\"PRICE\":33,\"DEVICE\":\"DESKTOP\",\"COUNTRY_NAME\":\"United States\",\"DAY\":\"Thursday\",\"CLICK_SOURCE\":\"ORGANIC\",\"PPC_TYPE\":\"Bing\"},{\"QUANTITY\":2,\"PRODUCT_NAME\":\"dysphagia cup\",\"TOT_PRICE\":40,\"PRICE\":20,\"DEVICE\":\"DESKTOP\",\"COUNTRY_NAME\":\"United States\",\"DAY\":\"Thursday\",\"CLICK_SOURCE\":\"ORGANIC\",\"PPC_TYPE\":\"Bing\"},{\"QUANTITY\":6,\"PRODUCT_NAME\":\"e-z-on tether mount for family vehicles\",\"TOT_PRICE\":294,\"PRICE\":49,\"DEVICE\":\"DESKTOP\",\"COUNTRY_NAME\":\"United States\",\"DAY\":\"Friday\",\"CLICK_SOURCE\":\"PPC\",\"PPC_TYPE\":\"Google\"},{\"QUANTITY\":10,\"PRODUCT_NAME\":\"e-z-on tether mount for family vehicles\",\"TOT_PRICE\":490,\"PRICE\":49,\"DEVICE\":\"MOBILE\",\"COUNTRY_NAME\":\"United States\",\"DAY\":\"Saturday\",\"CLICK_SOURCE\":\"ORGANIC\",\"PPC_TYPE\":\"Google\"},{\"QUANTITY\":10,\"PRODUCT_NAME\":\"easi-grip long reach toe nail cutter\",\"TOT_PRICE\":100,\"PRICE\":10,\"DEVICE\":\"MOBILE\",\"COUNTRY_NAME\":\"United States\",\"DAY\":\"Sunday\",\"CLICK_SOURCE\":\"ORGANIC\",\"PPC_TYPE\":\"Google\"},{\"QUANTITY\":7,\"PRODUCT_NAME\":\"especial needs weighted bundle\",\"TOT_PRICE\":1792,\"PRICE\":256,\"DEVICE\":\"MOBILE\",\"COUNTRY_NAME\":\"United States\",\"DAY\":\"Sunday\",\"CLICK_SOURCE\":\"ORGANIC\",\"PPC_TYPE\":\"Google\"},{\"QUANTITY\":17,\"PRODUCT_NAME\":\"ez-on 86y car cam conversion vest for family vehicles\",\"TOT_PRICE\":1292,\"PRICE\":76,\"DEVICE\":\"DESKTOP\",\"COUNTRY_NAME\":\"Japan\",\"DAY\":\"Friday\",\"CLICK_SOURCE\":\"ORGANIC\",\"PPC_TYPE\":\"Google\"},{\"QUANTITY\":4,\"PRODUCT_NAME\":\"ez-on 86y car cam conversion vest for family vehicles\",\"TOT_PRICE\":352,\"PRICE\":88,\"DEVICE\":\"DESKTOP\",\"COUNTRY_NAME\":\"United States\",\"DAY\":\"Thursday\",\"CLICK_SOURCE\":\"ORGANIC\",\"PPC_TYPE\":\"Google\"},{\"QUANTITY\":44,\"PRODUCT_NAME\":\"ez-on 86y car cam conversion vest for family vehicles\",\"TOT_PRICE\":3872,\"PRICE\":88,\"DEVICE\":\"MOBILE\",\"COUNTRY_NAME\":\"United States\",\"DAY\":\"Sunday\",\"CLICK_SOURCE\":\"ORGANIC\",\"PPC_TYPE\":\"Google\"},{\"QUANTITY\":8,\"PRODUCT_NAME\":\"ez-on 86y car cam conversion vest for family vehicles\",\"TOT_PRICE\":608,\"PRICE\":76,\"DEVICE\":\"MOBILE\",\"COUNTRY_NAME\":\"United States\",\"DAY\":\"Thursday\",\"CLICK_SOURCE\":\"ORGANIC\",\"PPC_TYPE\":\"Google\"},{\"QUANTITY\":4,\"PRODUCT_NAME\":\"ez-on 86y car cam conversion vest for family vehicles\",\"TOT_PRICE\":318,\"PRICE\":83,\"DEVICE\":\"MOBILE\",\"COUNTRY_NAME\":\"United States\",\"DAY\":\"Tuesday\",\"CLICK_SOURCE\":\"ORGANIC\",\"PPC_TYPE\":\"Google\"},{\"QUANTITY\":2,\"PRODUCT_NAME\":\"ez-on adjustable push button safety vest\",\"TOT_PRICE\":306,\"PRICE\":153,\"DEVICE\":\"DESKTOP\",\"COUNTRY_NAME\":\"United States\",\"DAY\":\"Monday\",\"CLICK_SOURCE\":\"ORGANIC\",\"PPC_TYPE\":\"Yahoo\"},{\"QUANTITY\":4,\"PRODUCT_NAME\":\"ez-on adjustable push button safety vest\",\"TOT_PRICE\":584,\"PRICE\":146,\"DEVICE\":\"DESKTOP\",\"COUNTRY_NAME\":\"United States\",\"DAY\":\"Thursday\",\"CLICK_SOURCE\":\"ORGANIC\",\"PPC_TYPE\":\"Google\"},{\"QUANTITY\":2,\"PRODUCT_NAME\":\"ez-on adjustable vest for family vehicles\",\"TOT_PRICE\":266,\"PRICE\":133,\"DEVICE\":\"DESKTOP\",\"COUNTRY_NAME\":\"Ireland\",\"DAY\":\"Thursday\",\"CLICK_SOURCE\":\"ORGANIC\",\"PPC_TYPE\":\"Google\"},{\"QUANTITY\":2,\"PRODUCT_NAME\":\"ez-on adjustable vest for family vehicles\",\"TOT_PRICE\":272,\"PRICE\":136,\"DEVICE\":\"DESKTOP\",\"COUNTRY_NAME\":\"United States\",\"DAY\":\"Friday\",\"CLICK_SOURCE\":\"ORGANIC\",\"PPC_TYPE\":\"Bing\"},{\"QUANTITY\":20,\"PRODUCT_NAME\":\"ez-on adjustable vest for family vehicles\",\"TOT_PRICE\":2660,\"PRICE\":133,\"DEVICE\":\"DESKTOP\",\"COUNTRY_NAME\":\"United States\",\"DAY\":\"Friday\",\"CLICK_SOURCE\":\"ORGANIC\",\"PPC_TYPE\":\"Google\"},{\"QUANTITY\":2,\"PRODUCT_NAME\":\"ez-on adjustable vest for family vehicles\",\"TOT_PRICE\":266,\"PRICE\":133,\"DEVICE\":\"DESKTOP\",\"COUNTRY_NAME\":\"United States\",\"DAY\":\"Tuesday\",\"CLICK_SOURCE\":\"ORGANIC\",\"PPC_TYPE\":\"Bing\"},{\"QUANTITY\":1,\"PRODUCT_NAME\":\"ez-on adjustable vest for family vehicles\",\"TOT_PRICE\":133,\"PRICE\":133,\"DEVICE\":\"MOBILE\",\"COUNTRY_NAME\":\"Canada\",\"DAY\":\"Wednesday\",\"CLICK_SOURCE\":\"ORGANIC\",\"PPC_TYPE\":\"Google\"},{\"QUANTITY\":15,\"PRODUCT_NAME\":\"ez-on adjustable vest for family vehicles\",\"TOT_PRICE\":2100,\"PRICE\":140,\"DEVICE\":\"MOBILE\",\"COUNTRY_NAME\":\"United States\",\"DAY\":\"Friday\",\"CLICK_SOURCE\":\"ORGANIC\",\"PPC_TYPE\":\"Google\"},{\"QUANTITY\":10,\"PRODUCT_NAME\":\"ez-on adjustable vest for family vehicles\",\"TOT_PRICE\":1330,\"PRICE\":133,\"DEVICE\":\"MOBILE\",\"COUNTRY_NAME\":\"United States\",\"DAY\":\"Saturday\",\"CLICK_SOURCE\":\"ORGANIC\",\"PPC_TYPE\":\"Google\"},{\"QUANTITY\":9,\"PRODUCT_NAME\":\"ez-on adjustable vest for family vehicles\",\"TOT_PRICE\":1683,\"PRICE\":187,\"DEVICE\":\"MOBILE\",\"COUNTRY_NAME\":\"United States\",\"DAY\":\"Thursday\",\"CLICK_SOURCE\":\"ORGANIC\",\"PPC_TYPE\":\"Google\"},{\"QUANTITY\":1,\"PRODUCT_NAME\":\"ez-on max ii safety vest\",\"TOT_PRICE\":192,\"PRICE\":192,\"DEVICE\":\"DESKTOP\",\"COUNTRY_NAME\":\"United States\",\"DAY\":\"Tuesday\",\"CLICK_SOURCE\":\"ORGANIC\",\"PPC_TYPE\":\"Google\"},{\"QUANTITY\":14,\"PRODUCT_NAME\":\"fatwheels training wheels\",\"TOT_PRICE\":1820,\"PRICE\":130,\"DEVICE\":\"MOBILE\",\"COUNTRY_NAME\":\"United States\",\"DAY\":\"Monday\",\"CLICK_SOURCE\":\"ORGANIC\",\"PPC_TYPE\":\"Bing\"},{\"QUANTITY\":9,\"PRODUCT_NAME\":\"fatwheels training wheels\",\"TOT_PRICE\":1170,\"PRICE\":130,\"DEVICE\":\"MOBILE\",\"COUNTRY_NAME\":\"United States\",\"DAY\":\"Thursday\",\"CLICK_SOURCE\":\"ORGANIC\",\"PPC_TYPE\":\"Google\"},{\"QUANTITY\":1,\"PRODUCT_NAME\":\"fatwheels training wheels\",\"TOT_PRICE\":130,\"PRICE\":130,\"DEVICE\":\"MOBILE\",\"COUNTRY_NAME\":\"United States\",\"DAY\":\"Wednesday\",\"CLICK_SOURCE\":\"ORGANIC\",\"PPC_TYPE\":\"Google\"},{\"QUANTITY\":2,\"PRODUCT_NAME\":\"fish tunnel\",\"TOT_PRICE\":334,\"PRICE\":167,\"DEVICE\":\"DESKTOP\",\"COUNTRY_NAME\":\"United States\",\"DAY\":\"Tuesday\",\"CLICK_SOURCE\":\"ORGANIC\",\"PPC_TYPE\":\"Google\"},{\"QUANTITY\":2,\"PRODUCT_NAME\":\"fluxy oral motor tool\",\"TOT_PRICE\":12,\"PRICE\":6,\"DEVICE\":\"DESKTOP\",\"COUNTRY_NAME\":\"United States\",\"DAY\":\"Monday\",\"CLICK_SOURCE\":\"ORGANIC\",\"PPC_TYPE\":\"Bing\"},{\"QUANTITY\":2,\"PRODUCT_NAME\":\"fold n half mats\",\"TOT_PRICE\":482,\"PRICE\":241,\"DEVICE\":\"DESKTOP\",\"COUNTRY_NAME\":\"United States\",\"DAY\":\"Tuesday\",\"CLICK_SOURCE\":\"ORGANIC\",\"PPC_TYPE\":\"Google\"},{\"QUANTITY\":1,\"PRODUCT_NAME\":\"footfidget\\\\u00ae portable footrest\",\"TOT_PRICE\":75,\"PRICE\":75,\"DEVICE\":\"DESKTOP\",\"COUNTRY_NAME\":\"United States\",\"DAY\":\"Thursday\",\"CLICK_SOURCE\":\"ORGANIC\",\"PPC_TYPE\":\"Google\"},{\"QUANTITY\":2,\"PRODUCT_NAME\":\"freedom pushchair stroller\",\"TOT_PRICE\":1800,\"PRICE\":900,\"DEVICE\":\"DESKTOP\",\"COUNTRY_NAME\":\"United States\",\"DAY\":\"Friday\",\"CLICK_SOURCE\":\"ORGANIC\",\"PPC_TYPE\":\"Google\"},{\"QUANTITY\":1,\"PRODUCT_NAME\":\"full coverage soft shell helmet\",\"TOT_PRICE\":207,\"PRICE\":207,\"DEVICE\":\"DESKTOP\",\"COUNTRY_NAME\":\"United States\",\"DAY\":\"Monday\",\"CLICK_SOURCE\":\"PPC\",\"PPC_TYPE\":\"Bing\"},{\"QUANTITY\":1,\"PRODUCT_NAME\":\"g-tube protective belt\",\"TOT_PRICE\":116,\"PRICE\":116,\"DEVICE\":\"MOBILE\",\"COUNTRY_NAME\":\"United States\",\"DAY\":\"Saturday\",\"CLICK_SOURCE\":\"ORGANIC\",\"PPC_TYPE\":\"Google\"},{\"QUANTITY\":8,\"PRODUCT_NAME\":\"g-tube protective belt\",\"TOT_PRICE\":872,\"PRICE\":109,\"DEVICE\":\"MOBILE\",\"COUNTRY_NAME\":\"United States\",\"DAY\":\"Sunday\",\"CLICK_SOURCE\":\"ORGANIC\",\"PPC_TYPE\":\"Google\"},{\"QUANTITY\":4,\"PRODUCT_NAME\":\"good grips utensils\",\"TOT_PRICE\":68,\"PRICE\":17,\"DEVICE\":\"DESKTOP\",\"COUNTRY_NAME\":\"United States\",\"DAY\":\"Friday\",\"CLICK_SOURCE\":\"ORGANIC\",\"PPC_TYPE\":\"Bing\"},{\"QUANTITY\":4,\"PRODUCT_NAME\":\"goodie-strap\\\\u2122\",\"TOT_PRICE\":20,\"PRICE\":5,\"DEVICE\":\"DESKTOP\",\"COUNTRY_NAME\":\"United States\",\"DAY\":\"Friday\",\"CLICK_SOURCE\":\"ORGANIC\",\"PPC_TYPE\":\"Bing\"},{\"QUANTITY\":9,\"PRODUCT_NAME\":\"handiwriter\",\"TOT_PRICE\":45,\"PRICE\":5,\"DEVICE\":\"DESKTOP\",\"COUNTRY_NAME\":\"United States\",\"DAY\":\"Thursday\",\"CLICK_SOURCE\":\"ORGANIC\",\"PPC_TYPE\":\"Google\"},{\"QUANTITY\":10,\"PRODUCT_NAME\":\"handweight\",\"TOT_PRICE\":200,\"PRICE\":20,\"DEVICE\":\"DESKTOP\",\"COUNTRY_NAME\":\"United States\",\"DAY\":\"Saturday\",\"CLICK_SOURCE\":\"ORGANIC\",\"PPC_TYPE\":\"Google\"},{\"QUANTITY\":1,\"PRODUCT_NAME\":\"high backed seat for swings\",\"TOT_PRICE\":260,\"PRICE\":260,\"DEVICE\":\"DESKTOP\",\"COUNTRY_NAME\":\"United States\",\"DAY\":\"Monday\",\"CLICK_SOURCE\":\"ORGANIC\",\"PPC_TYPE\":\"Google\"},{\"QUANTITY\":2,\"PRODUCT_NAME\":\"homestand heavy-duty swing frame\",\"TOT_PRICE\":1968,\"PRICE\":984,\"DEVICE\":\"DESKTOP\",\"COUNTRY_NAME\":\"United States\",\"DAY\":\"Monday\",\"CLICK_SOURCE\":\"PPC\",\"PPC_TYPE\":\"Google\"},{\"QUANTITY\":3,\"PRODUCT_NAME\":\"jennswing swing frame - single\",\"TOT_PRICE\":2409,\"PRICE\":803,\"DEVICE\":\"DESKTOP\",\"COUNTRY_NAME\":\"United States\",\"DAY\":\"Friday\",\"CLICK_SOURCE\":\"ORGANIC\",\"PPC_TYPE\":\"Bing\"},{\"QUANTITY\":1,\"PRODUCT_NAME\":\"jumpking 55 bazoongi trampoline \",\"TOT_PRICE\":116,\"PRICE\":116,\"DEVICE\":\"DESKTOP\",\"COUNTRY_NAME\":\"United States\",\"DAY\":\"Monday\",\"CLICK_SOURCE\":\"PPC\",\"PPC_TYPE\":\"Google\"},{\"QUANTITY\":4,\"PRODUCT_NAME\":\"keys-u-see\\\\u00ae keyboard\",\"TOT_PRICE\":140,\"PRICE\":35,\"DEVICE\":\"DESKTOP\",\"COUNTRY_NAME\":\"United States\",\"DAY\":\"Thursday\",\"CLICK_SOURCE\":\"ORGANIC\",\"PPC_TYPE\":\"Google\"},{\"QUANTITY\":2,\"PRODUCT_NAME\":\"keys-u-see\\\\u00ae keyboard\",\"TOT_PRICE\":70,\"PRICE\":35,\"DEVICE\":\"DESKTOP\",\"COUNTRY_NAME\":\"United States\",\"DAY\":\"Tuesday\",\"CLICK_SOURCE\":\"ORGANIC\",\"PPC_TYPE\":\"Google\"},{\"QUANTITY\":1,\"PRODUCT_NAME\":\"kinder classroom chairs\",\"TOT_PRICE\":206,\"PRICE\":206,\"DEVICE\":\"DESKTOP\",\"COUNTRY_NAME\":\"United States\",\"DAY\":\"Wednesday\",\"CLICK_SOURCE\":\"ORGANIC\",\"PPC_TYPE\":\"Bing\"},{\"QUANTITY\":4,\"PRODUCT_NAME\":\"lace & trace farm animals\",\"TOT_PRICE\":36,\"PRICE\":9,\"DEVICE\":\"MOBILE\",\"COUNTRY_NAME\":\"United States\",\"DAY\":\"Tuesday\",\"CLICK_SOURCE\":\"ORGANIC\",\"PPC_TYPE\":\"Google\"},{\"QUANTITY\":2,\"PRODUCT_NAME\":\"lap pal weighted lap pad - blue\",\"TOT_PRICE\":72,\"PRICE\":36,\"DEVICE\":\"DESKTOP\",\"COUNTRY_NAME\":\"United States\",\"DAY\":\"Tuesday\",\"CLICK_SOURCE\":\"ORGANIC\",\"PPC_TYPE\":\"Google\"},{\"QUANTITY\":4,\"PRODUCT_NAME\":\"legiguides\",\"TOT_PRICE\":52,\"PRICE\":13,\"DEVICE\":\"MOBILE\",\"COUNTRY_NAME\":\"United States\",\"DAY\":\"Sunday\",\"CLICK_SOURCE\":\"ORGANIC\",\"PPC_TYPE\":\"Google\"},{\"QUANTITY\":2,\"PRODUCT_NAME\":\"light up morph ball\",\"TOT_PRICE\":12,\"PRICE\":6,\"DEVICE\":\"DESKTOP\",\"COUNTRY_NAME\":\"United States\",\"DAY\":\"Monday\",\"CLICK_SOURCE\":\"ORGANIC\",\"PPC_TYPE\":\"Bing\"},{\"QUANTITY\":14,\"PRODUCT_NAME\":\"maddadapt ubend-it spoon\",\"TOT_PRICE\":140,\"PRICE\":10,\"DEVICE\":\"DESKTOP\",\"COUNTRY_NAME\":\"United States\",\"DAY\":\"Saturday\",\"CLICK_SOURCE\":\"ORGANIC\",\"PPC_TYPE\":\"Bing\"},{\"QUANTITY\":4,\"PRODUCT_NAME\":\"manual dexterity boards\",\"TOT_PRICE\":80,\"PRICE\":20,\"DEVICE\":\"DESKTOP\",\"COUNTRY_NAME\":\"United States\",\"DAY\":\"Tuesday\",\"CLICK_SOURCE\":\"ORGANIC\",\"PPC_TYPE\":\"Google\"},{\"QUANTITY\":28,\"PRODUCT_NAME\":\"marinelock refrigerator door lock\",\"TOT_PRICE\":924,\"PRICE\":33,\"DEVICE\":\"DESKTOP\",\"COUNTRY_NAME\":\"United States\",\"DAY\":\"Thursday\",\"CLICK_SOURCE\":\"ORGANIC\",\"PPC_TYPE\":\"Bing\"},{\"QUANTITY\":1,\"PRODUCT_NAME\":\"maroon spoons\",\"TOT_PRICE\":10,\"PRICE\":10,\"DEVICE\":\"DESKTOP\",\"COUNTRY_NAME\":\"United States\",\"DAY\":\"Tuesday\",\"CLICK_SOURCE\":\"ORGANIC\",\"PPC_TYPE\":\"Google\"},{\"QUANTITY\":2,\"PRODUCT_NAME\":\"mega roller glow in the dark hand fidget\",\"TOT_PRICE\":26,\"PRICE\":13,\"DEVICE\":\"DESKTOP\",\"COUNTRY_NAME\":\"United States\",\"DAY\":\"Monday\",\"CLICK_SOURCE\":\"ORGANIC\",\"PPC_TYPE\":\"Bing\"},{\"QUANTITY\":8,\"PRODUCT_NAME\":\"melissa & doug train sound puzzle\",\"TOT_PRICE\":88,\"PRICE\":11,\"DEVICE\":\"MOBILE\",\"COUNTRY_NAME\":\"United States\",\"DAY\":\"Wednesday\",\"CLICK_SOURCE\":\"ORGANIC\",\"PPC_TYPE\":\"Google\"},{\"QUANTITY\":8,\"PRODUCT_NAME\":\"melissa & doug vehicle sound puzzle\",\"TOT_PRICE\":88,\"PRICE\":11,\"DEVICE\":\"MOBILE\",\"COUNTRY_NAME\":\"United States\",\"DAY\":\"Wednesday\",\"CLICK_SOURCE\":\"ORGANIC\",\"PPC_TYPE\":\"Google\"},{\"QUANTITY\":10,\"PRODUCT_NAME\":\"mini easi-grip scissors\",\"TOT_PRICE\":70,\"PRICE\":7,\"DEVICE\":\"DESKTOP\",\"COUNTRY_NAME\":\"United States\",\"DAY\":\"Thursday\",\"CLICK_SOURCE\":\"ORGANIC\",\"PPC_TYPE\":\"Google\"},{\"QUANTITY\":8,\"PRODUCT_NAME\":\"noiseless earphones\",\"TOT_PRICE\":80,\"PRICE\":10,\"DEVICE\":\"DESKTOP\",\"COUNTRY_NAME\":\"United States\",\"DAY\":\"Friday\",\"CLICK_SOURCE\":\"ORGANIC\",\"PPC_TYPE\":\"Google\"},{\"QUANTITY\":8,\"PRODUCT_NAME\":\"noiseless earphones\",\"TOT_PRICE\":80,\"PRICE\":10,\"DEVICE\":\"DESKTOP\",\"COUNTRY_NAME\":\"United States\",\"DAY\":\"Thursday\",\"CLICK_SOURCE\":\"PPC\",\"PPC_TYPE\":\"Google\"},{\"QUANTITY\":2,\"PRODUCT_NAME\":\"noiseless earphones\",\"TOT_PRICE\":20,\"PRICE\":10,\"DEVICE\":\"DESKTOP\",\"COUNTRY_NAME\":\"United States\",\"DAY\":\"Tuesday\",\"CLICK_SOURCE\":\"ORGANIC\",\"PPC_TYPE\":\"Bing\"},{\"QUANTITY\":8,\"PRODUCT_NAME\":\"noiseless earphones\",\"TOT_PRICE\":80,\"PRICE\":10,\"DEVICE\":\"MOBILE\",\"COUNTRY_NAME\":\"United States\",\"DAY\":\"Thursday\",\"CLICK_SOURCE\":\"ORGANIC\",\"PPC_TYPE\":\"Google\"},{\"QUANTITY\":5,\"PRODUCT_NAME\":\"norco\\\\u2122 writing grips\",\"TOT_PRICE\":25,\"PRICE\":5,\"DEVICE\":\"DESKTOP\",\"COUNTRY_NAME\":\"United States\",\"DAY\":\"Friday\",\"CLICK_SOURCE\":\"ORGANIC\",\"PPC_TYPE\":\"Google\"},{\"QUANTITY\":17,\"PRODUCT_NAME\":\"numuv grip-aid\",\"TOT_PRICE\":187,\"PRICE\":11,\"DEVICE\":\"DESKTOP\",\"COUNTRY_NAME\":\"United States\",\"DAY\":\"Sunday\",\"CLICK_SOURCE\":\"ORGANIC\",\"PPC_TYPE\":\"Bing\"},{\"QUANTITY\":12,\"PRODUCT_NAME\":\"numuv grip-aid\",\"TOT_PRICE\":132,\"PRICE\":11,\"DEVICE\":\"DESKTOP\",\"COUNTRY_NAME\":\"United States\",\"DAY\":\"Wednesday\",\"CLICK_SOURCE\":\"ORGANIC\",\"PPC_TYPE\":\"Google\"},{\"QUANTITY\":9,\"PRODUCT_NAME\":\"nylon mesh bag for ball-pit balls\",\"TOT_PRICE\":315,\"PRICE\":35,\"DEVICE\":\"DESKTOP\",\"COUNTRY_NAME\":\"United States\",\"DAY\":\"Thursday\",\"CLICK_SOURCE\":\"ORGANIC\",\"PPC_TYPE\":\"Google\"},{\"QUANTITY\":4,\"PRODUCT_NAME\":\"opti aura led projector\",\"TOT_PRICE\":1196,\"PRICE\":299,\"DEVICE\":\"DESKTOP\",\"COUNTRY_NAME\":\"United States\",\"DAY\":\"Wednesday\",\"CLICK_SOURCE\":\"ORGANIC\",\"PPC_TYPE\":\"Bing\"},{\"QUANTITY\":5,\"PRODUCT_NAME\":\"penagain ergo-sof\\\\u2122 grip\",\"TOT_PRICE\":35,\"PRICE\":7,\"DEVICE\":\"DESKTOP\",\"COUNTRY_NAME\":\"United States\",\"DAY\":\"Friday\",\"CLICK_SOURCE\":\"ORGANIC\",\"PPC_TYPE\":\"Google\"},{\"QUANTITY\":9,\"PRODUCT_NAME\":\"penagain twist n write childrens pencils\",\"TOT_PRICE\":27,\"PRICE\":3,\"DEVICE\":\"DESKTOP\",\"COUNTRY_NAME\":\"United States\",\"DAY\":\"Thursday\",\"CLICK_SOURCE\":\"ORGANIC\",\"PPC_TYPE\":\"Google\"},{\"QUANTITY\":5,\"PRODUCT_NAME\":\"pencil grips\",\"TOT_PRICE\":25,\"PRICE\":5,\"DEVICE\":\"DESKTOP\",\"COUNTRY_NAME\":\"United States\",\"DAY\":\"Friday\",\"CLICK_SOURCE\":\"ORGANIC\",\"PPC_TYPE\":\"Google\"},{\"QUANTITY\":8,\"PRODUCT_NAME\":\"pets sound puzzle\",\"TOT_PRICE\":88,\"PRICE\":11,\"DEVICE\":\"MOBILE\",\"COUNTRY_NAME\":\"United States\",\"DAY\":\"Wednesday\",\"CLICK_SOURCE\":\"ORGANIC\",\"PPC_TYPE\":\"Google\"},{\"QUANTITY\":2,\"PRODUCT_NAME\":\"plastic-handled swivel utensils\",\"TOT_PRICE\":52,\"PRICE\":26,\"DEVICE\":\"DESKTOP\",\"COUNTRY_NAME\":\"United States\",\"DAY\":\"Tuesday\",\"CLICK_SOURCE\":\"ORGANIC\",\"PPC_TYPE\":\"Google\"},{\"QUANTITY\":17,\"PRODUCT_NAME\":\"plastisol\\\\u2122 plastic coated spoons\",\"TOT_PRICE\":136,\"PRICE\":8,\"DEVICE\":\"DESKTOP\",\"COUNTRY_NAME\":\"United States\",\"DAY\":\"Sunday\",\"CLICK_SOURCE\":\"ORGANIC\",\"PPC_TYPE\":\"Bing\"},{\"QUANTITY\":34,\"PRODUCT_NAME\":\"positioning pillows\",\"TOT_PRICE\":1870,\"PRICE\":45,\"DEVICE\":\"DESKTOP\",\"COUNTRY_NAME\":\"United States\",\"DAY\":\"Saturday\",\"CLICK_SOURCE\":\"ORGANIC\",\"PPC_TYPE\":\"Google\"},{\"QUANTITY\":6,\"PRODUCT_NAME\":\"powerlink\\\\u00ae4 control unit\",\"TOT_PRICE\":1530,\"PRICE\":255,\"DEVICE\":\"DESKTOP\",\"COUNTRY_NAME\":\"United States\",\"DAY\":\"Friday\",\"CLICK_SOURCE\":\"PPC\",\"PPC_TYPE\":\"Google\"},{\"QUANTITY\":12,\"PRODUCT_NAME\":\"powerlink\\\\u00ae4 control unit\",\"TOT_PRICE\":3060,\"PRICE\":255,\"DEVICE\":\"DESKTOP\",\"COUNTRY_NAME\":\"United States\",\"DAY\":\"Wednesday\",\"CLICK_SOURCE\":\"ORGANIC\",\"PPC_TYPE\":\"Google\"},{\"QUANTITY\":2,\"PRODUCT_NAME\":\"provale regulating drinking cup\",\"TOT_PRICE\":84,\"PRICE\":42,\"DEVICE\":\"MOBILE\",\"COUNTRY_NAME\":\"United States\",\"DAY\":\"Tuesday\",\"CLICK_SOURCE\":\"ORGANIC\",\"PPC_TYPE\":\"Google\"},{\"QUANTITY\":4,\"PRODUCT_NAME\":\"rainforest jigsaw puzzle\",\"TOT_PRICE\":36,\"PRICE\":9,\"DEVICE\":\"MOBILE\",\"COUNTRY_NAME\":\"United States\",\"DAY\":\"Tuesday\",\"CLICK_SOURCE\":\"ORGANIC\",\"PPC_TYPE\":\"Google\"},{\"QUANTITY\":2,\"PRODUCT_NAME\":\"rectangle budget ball pit\",\"TOT_PRICE\":1736,\"PRICE\":868,\"DEVICE\":\"DESKTOP\",\"COUNTRY_NAME\":\"United States\",\"DAY\":\"Friday\",\"CLICK_SOURCE\":\"ORGANIC\",\"PPC_TYPE\":\"Bing\"},{\"QUANTITY\":1,\"PRODUCT_NAME\":\"rectangle budget ball pit\",\"TOT_PRICE\":868,\"PRICE\":868,\"DEVICE\":\"MOBILE\",\"COUNTRY_NAME\":\"United States\",\"DAY\":\"Wednesday\",\"CLICK_SOURCE\":\"ORGANIC\",\"PPC_TYPE\":\"Google\"},{\"QUANTITY\":2,\"PRODUCT_NAME\":\"rifton small adaptive tricycles\",\"TOT_PRICE\":2778,\"PRICE\":1389,\"DEVICE\":\"DESKTOP\",\"COUNTRY_NAME\":\"United States\",\"DAY\":\"Thursday\",\"CLICK_SOURCE\":\"PPC\",\"PPC_TYPE\":\"Google\"},{\"QUANTITY\":6,\"PRODUCT_NAME\":\"rije dysphagia drinking cup\",\"TOT_PRICE\":270,\"PRICE\":45,\"DEVICE\":\"DESKTOP\",\"COUNTRY_NAME\":\"United States\",\"DAY\":\"Friday\",\"CLICK_SOURCE\":\"ORGANIC\",\"PPC_TYPE\":\"Google\"},{\"QUANTITY\":2,\"PRODUCT_NAME\":\"roosevelt car seat\",\"TOT_PRICE\":2064,\"PRICE\":1032,\"DEVICE\":\"DESKTOP\",\"COUNTRY_NAME\":\"United States\",\"DAY\":\"Monday\",\"CLICK_SOURCE\":\"ORGANIC\",\"PPC_TYPE\":\"Google\"},{\"QUANTITY\":6,\"PRODUCT_NAME\":\"saddle roll\",\"TOT_PRICE\":186,\"PRICE\":31,\"DEVICE\":\"MOBILE\",\"COUNTRY_NAME\":\"United States\",\"DAY\":\"Sunday\",\"CLICK_SOURCE\":\"ORGANIC\",\"PPC_TYPE\":\"Google\"},{\"QUANTITY\":2,\"PRODUCT_NAME\":\"safestraw\\\\u2122\",\"TOT_PRICE\":18,\"PRICE\":9,\"DEVICE\":\"MOBILE\",\"COUNTRY_NAME\":\"United States\",\"DAY\":\"Tuesday\",\"CLICK_SOURCE\":\"ORGANIC\",\"PPC_TYPE\":\"Google\"},{\"QUANTITY\":2,\"PRODUCT_NAME\":\"school age contour seating\",\"TOT_PRICE\":910,\"PRICE\":455,\"DEVICE\":\"DESKTOP\",\"COUNTRY_NAME\":\"United States\",\"DAY\":\"Tuesday\",\"CLICK_SOURCE\":\"ORGANIC\",\"PPC_TYPE\":\"Google\"},{\"QUANTITY\":4,\"PRODUCT_NAME\":\"scooper bowl with suction cup base\",\"TOT_PRICE\":32,\"PRICE\":8,\"DEVICE\":\"DESKTOP\",\"COUNTRY_NAME\":\"United States\",\"DAY\":\"Friday\",\"CLICK_SOURCE\":\"ORGANIC\",\"PPC_TYPE\":\"Bing\"},{\"QUANTITY\":17,\"PRODUCT_NAME\":\"see-me sensory ball\",\"TOT_PRICE\":204,\"PRICE\":12,\"DEVICE\":\"DESKTOP\",\"COUNTRY_NAME\":\"United States\",\"DAY\":\"Sunday\",\"CLICK_SOURCE\":\"ORGANIC\",\"PPC_TYPE\":\"Bing\"},{\"QUANTITY\":2,\"PRODUCT_NAME\":\"self color-changing egg\",\"TOT_PRICE\":14,\"PRICE\":7,\"DEVICE\":\"DESKTOP\",\"COUNTRY_NAME\":\"United States\",\"DAY\":\"Monday\",\"CLICK_SOURCE\":\"ORGANIC\",\"PPC_TYPE\":\"Bing\"},{\"QUANTITY\":8,\"PRODUCT_NAME\":\"senseez soothables lil jelly vibrating massager\",\"TOT_PRICE\":104,\"PRICE\":13,\"DEVICE\":\"MOBILE\",\"COUNTRY_NAME\":\"United States\",\"DAY\":\"Wednesday\",\"CLICK_SOURCE\":\"ORGANIC\",\"PPC_TYPE\":\"Google\"},{\"QUANTITY\":8,\"PRODUCT_NAME\":\"sensi-roll\",\"TOT_PRICE\":256,\"PRICE\":32,\"DEVICE\":\"MOBILE\",\"COUNTRY_NAME\":\"United States\",\"DAY\":\"Wednesday\",\"CLICK_SOURCE\":\"ORGANIC\",\"PPC_TYPE\":\"Google\"},{\"QUANTITY\":17,\"PRODUCT_NAME\":\"sensory hugs deep pressure sensory tops\",\"TOT_PRICE\":799,\"PRICE\":47,\"DEVICE\":\"MOBILE\",\"COUNTRY_NAME\":\"United States\",\"DAY\":\"Friday\",\"CLICK_SOURCE\":\"ORGANIC\",\"PPC_TYPE\":\"Google\"},{\"QUANTITY\":10,\"PRODUCT_NAME\":\"sensory hugs deep pressure sensory vests\",\"TOT_PRICE\":590,\"PRICE\":59,\"DEVICE\":\"DESKTOP\",\"COUNTRY_NAME\":\"United States\",\"DAY\":\"Saturday\",\"CLICK_SOURCE\":\"ORGANIC\",\"PPC_TYPE\":\"Google\"},{\"QUANTITY\":8,\"PRODUCT_NAME\":\"sensory hugs deep pressure sensory vests\",\"TOT_PRICE\":472,\"PRICE\":59,\"DEVICE\":\"DESKTOP\",\"COUNTRY_NAME\":\"United States\",\"DAY\":\"Thursday\",\"CLICK_SOURCE\":\"ORGANIC\",\"PPC_TYPE\":\"Google\"},{\"QUANTITY\":10,\"PRODUCT_NAME\":\"sensory hugs deep pressure sensory vests\",\"TOT_PRICE\":390,\"PRICE\":39,\"DEVICE\":\"MOBILE\",\"COUNTRY_NAME\":\"United States\",\"DAY\":\"Saturday\",\"CLICK_SOURCE\":\"ORGANIC\",\"PPC_TYPE\":\"Google\"},{\"QUANTITY\":3,\"PRODUCT_NAME\":\"sensory hugs washable weighted blankets\",\"TOT_PRICE\":411,\"PRICE\":137,\"DEVICE\":\"DESKTOP\",\"COUNTRY_NAME\":\"United States\",\"DAY\":\"Friday\",\"CLICK_SOURCE\":\"PPC\",\"PPC_TYPE\":\"Google\"},{\"QUANTITY\":28,\"PRODUCT_NAME\":\"sensory hugs washable weighted blankets\",\"TOT_PRICE\":3752,\"PRICE\":134,\"DEVICE\":\"DESKTOP\",\"COUNTRY_NAME\":\"United States\",\"DAY\":\"Monday\",\"CLICK_SOURCE\":\"ORGANIC\",\"PPC_TYPE\":\"Yahoo\"},{\"QUANTITY\":2,\"PRODUCT_NAME\":\"sensory hugs washable weighted blankets\",\"TOT_PRICE\":274,\"PRICE\":137,\"DEVICE\":\"DESKTOP\",\"COUNTRY_NAME\":\"United States\",\"DAY\":\"Tuesday\",\"CLICK_SOURCE\":\"ORGANIC\",\"PPC_TYPE\":\"Bing\"},{\"QUANTITY\":2,\"PRODUCT_NAME\":\"sensory hugs washable weighted blankets\",\"TOT_PRICE\":226,\"PRICE\":113,\"DEVICE\":\"DESKTOP\",\"COUNTRY_NAME\":\"United States\",\"DAY\":\"Tuesday\",\"CLICK_SOURCE\":\"ORGANIC\",\"PPC_TYPE\":\"Google\"},{\"QUANTITY\":1,\"PRODUCT_NAME\":\"sensory hugs washable weighted blankets\",\"TOT_PRICE\":134,\"PRICE\":134,\"DEVICE\":\"DESKTOP\",\"COUNTRY_NAME\":\"United States\",\"DAY\":\"Tuesday\",\"CLICK_SOURCE\":\"ORGANIC\",\"PPC_TYPE\":\"Yahoo\"},{\"QUANTITY\":1,\"PRODUCT_NAME\":\"sensory hugs washable weighted blankets\",\"TOT_PRICE\":87,\"PRICE\":87,\"DEVICE\":\"DESKTOP\",\"COUNTRY_NAME\":\"United States\",\"DAY\":\"Tuesday\",\"CLICK_SOURCE\":\"PPC\",\"PPC_TYPE\":\"Google\"},{\"QUANTITY\":2,\"PRODUCT_NAME\":\"sensory hugs washable weighted blankets\",\"TOT_PRICE\":268,\"PRICE\":134,\"DEVICE\":\"MOBILE\",\"COUNTRY_NAME\":\"United States\",\"DAY\":\"Saturday\",\"CLICK_SOURCE\":\"ORGANIC\",\"PPC_TYPE\":\"Google\"},{\"QUANTITY\":8,\"PRODUCT_NAME\":\"sensory hugs washable weighted blankets\",\"TOT_PRICE\":880,\"PRICE\":110,\"DEVICE\":\"MOBILE\",\"COUNTRY_NAME\":\"United States\",\"DAY\":\"Sunday\",\"CLICK_SOURCE\":\"ORGANIC\",\"PPC_TYPE\":\"Bing\"},{\"QUANTITY\":2,\"PRODUCT_NAME\":\"sensory hugs washable weighted blankets\",\"TOT_PRICE\":436,\"PRICE\":218,\"DEVICE\":\"MOBILE\",\"COUNTRY_NAME\":\"United States\",\"DAY\":\"Tuesday\",\"CLICK_SOURCE\":\"ORGANIC\",\"PPC_TYPE\":\"Google\"},{\"QUANTITY\":8,\"PRODUCT_NAME\":\"sensory hugs washable weighted blankets\",\"TOT_PRICE\":696,\"PRICE\":87,\"DEVICE\":\"MOBILE\",\"COUNTRY_NAME\":\"United States\",\"DAY\":\"Wednesday\",\"CLICK_SOURCE\":\"ORGANIC\",\"PPC_TYPE\":\"Google\"},{\"QUANTITY\":3,\"PRODUCT_NAME\":\"sensory hugs weighted v deep pressure sensory vests\",\"TOT_PRICE\":270,\"PRICE\":90,\"DEVICE\":\"DESKTOP\",\"COUNTRY_NAME\":\"United States\",\"DAY\":\"Sunday\",\"CLICK_SOURCE\":\"ORGANIC\",\"PPC_TYPE\":\"Google\"},{\"QUANTITY\":6,\"PRODUCT_NAME\":\"sensory hugs weighted v deep pressure sensory vests\",\"TOT_PRICE\":482,\"PRICE\":68,\"DEVICE\":\"DESKTOP\",\"COUNTRY_NAME\":\"United States\",\"DAY\":\"Tuesday\",\"CLICK_SOURCE\":\"ORGANIC\",\"PPC_TYPE\":\"Google\"},{\"QUANTITY\":28,\"PRODUCT_NAME\":\"sensory hugs weighted v deep pressure sensory vests\",\"TOT_PRICE\":1680,\"PRICE\":60,\"DEVICE\":\"MOBILE\",\"COUNTRY_NAME\":\"United States\",\"DAY\":\"Friday\",\"CLICK_SOURCE\":\"ORGANIC\",\"PPC_TYPE\":\"Google\"},{\"QUANTITY\":28,\"PRODUCT_NAME\":\"sensory hugs weighted lap pads\",\"TOT_PRICE\":1232,\"PRICE\":44,\"DEVICE\":\"MOBILE\",\"COUNTRY_NAME\":\"United States\",\"DAY\":\"Monday\",\"CLICK_SOURCE\":\"ORGANIC\",\"PPC_TYPE\":\"Yahoo\"},{\"QUANTITY\":9,\"PRODUCT_NAME\":\"sensory hugs weighted vests\",\"TOT_PRICE\":441,\"PRICE\":49,\"DEVICE\":\"MOBILE\",\"COUNTRY_NAME\":\"United States\",\"DAY\":\"Thursday\",\"CLICK_SOURCE\":\"ORGANIC\",\"PPC_TYPE\":\"Google\"},{\"QUANTITY\":17,\"PRODUCT_NAME\":\"single use disposable cup, bag of 12\",\"TOT_PRICE\":238,\"PRICE\":14,\"DEVICE\":\"DESKTOP\",\"COUNTRY_NAME\":\"United States\",\"DAY\":\"Sunday\",\"CLICK_SOURCE\":\"ORGANIC\",\"PPC_TYPE\":\"Bing\"},{\"QUANTITY\":1,\"PRODUCT_NAME\":\"slinky\\\\u00ae pop-toobs \",\"TOT_PRICE\":5,\"PRICE\":5,\"DEVICE\":\"DESKTOP\",\"COUNTRY_NAME\":\"United States\",\"DAY\":\"Tuesday\",\"CLICK_SOURCE\":\"PPC\",\"PPC_TYPE\":\"Google\"},{\"QUANTITY\":2,\"PRODUCT_NAME\":\"snug hug cozy swing\",\"TOT_PRICE\":338,\"PRICE\":169,\"DEVICE\":\"DESKTOP\",\"COUNTRY_NAME\":\"United States\",\"DAY\":\"Tuesday\",\"CLICK_SOURCE\":\"ORGANIC\",\"PPC_TYPE\":\"Google\"},{\"QUANTITY\":2,\"PRODUCT_NAME\":\"soft built up handle utensils\",\"TOT_PRICE\":44,\"PRICE\":22,\"DEVICE\":\"DESKTOP\",\"COUNTRY_NAME\":\"United States\",\"DAY\":\"Tuesday\",\"CLICK_SOURCE\":\"ORGANIC\",\"PPC_TYPE\":\"Google\"},{\"QUANTITY\":2,\"PRODUCT_NAME\":\"soft top comfy cap\",\"TOT_PRICE\":184,\"PRICE\":92,\"DEVICE\":\"DESKTOP\",\"COUNTRY_NAME\":\"Canada\",\"DAY\":\"Tuesday\",\"CLICK_SOURCE\":\"ORGANIC\",\"PPC_TYPE\":\"Google\"},{\"QUANTITY\":2,\"PRODUCT_NAME\":\"sonic scooters\",\"TOT_PRICE\":62,\"PRICE\":31,\"DEVICE\":\"DESKTOP\",\"COUNTRY_NAME\":\"United States\",\"DAY\":\"Tuesday\",\"CLICK_SOURCE\":\"PPC\",\"PPC_TYPE\":\"Google\"},{\"QUANTITY\":1,\"PRODUCT_NAME\":\"special needs high backed swing with rope\",\"TOT_PRICE\":193,\"PRICE\":193,\"DEVICE\":\"DESKTOP\",\"COUNTRY_NAME\":\"United States\",\"DAY\":\"Friday\",\"CLICK_SOURCE\":\"ORGANIC\",\"PPC_TYPE\":\"Bing\"},{\"QUANTITY\":2,\"PRODUCT_NAME\":\"spio vests\",\"TOT_PRICE\":440,\"PRICE\":220,\"DEVICE\":\"MOBILE\",\"COUNTRY_NAME\":\"United States\",\"DAY\":\"Monday\",\"CLICK_SOURCE\":\"ORGANIC\",\"PPC_TYPE\":\"Google\"},{\"QUANTITY\":1,\"PRODUCT_NAME\":\"spio vests\",\"TOT_PRICE\":220,\"PRICE\":220,\"DEVICE\":\"MOBILE\",\"COUNTRY_NAME\":\"United States\",\"DAY\":\"Tuesday\",\"CLICK_SOURCE\":\"ORGANIC\",\"PPC_TYPE\":\"Google\"},{\"QUANTITY\":1,\"PRODUCT_NAME\":\"square carpeted platform swing\",\"TOT_PRICE\":150,\"PRICE\":150,\"DEVICE\":\"MOBILE\",\"COUNTRY_NAME\":\"United States\",\"DAY\":\"Tuesday\",\"CLICK_SOURCE\":\"PPC\",\"PPC_TYPE\":null},{\"QUANTITY\":2,\"PRODUCT_NAME\":\"supertalker progressive communicator\",\"TOT_PRICE\":750,\"PRICE\":375,\"DEVICE\":\"DESKTOP\",\"COUNTRY_NAME\":\"United States\",\"DAY\":\"Tuesday\",\"CLICK_SOURCE\":\"ORGANIC\",\"PPC_TYPE\":\"Google\"},{\"QUANTITY\":4,\"PRODUCT_NAME\":\"swimmates adult disposable swim diaper\",\"TOT_PRICE\":84,\"PRICE\":21,\"DEVICE\":\"DESKTOP\",\"COUNTRY_NAME\":\"United States\",\"DAY\":\"Sunday\",\"CLICK_SOURCE\":\"ORGANIC\",\"PPC_TYPE\":\"Google\"},{\"QUANTITY\":1,\"PRODUCT_NAME\":\"swing height adjustment system\",\"TOT_PRICE\":186,\"PRICE\":186,\"DEVICE\":\"DESKTOP\",\"COUNTRY_NAME\":\"United States\",\"DAY\":\"Tuesday\",\"CLICK_SOURCE\":\"ORGANIC\",\"PPC_TYPE\":\"Google\"},{\"QUANTITY\":4,\"PRODUCT_NAME\":\"t-grip bendable utensils\",\"TOT_PRICE\":64,\"PRICE\":16,\"DEVICE\":\"DESKTOP\",\"COUNTRY_NAME\":\"United States\",\"DAY\":\"Tuesday\",\"CLICK_SOURCE\":\"ORGANIC\",\"PPC_TYPE\":\"Google\"},{\"QUANTITY\":1,\"PRODUCT_NAME\":\"talking brix\",\"TOT_PRICE\":145,\"PRICE\":145,\"DEVICE\":\"DESKTOP\",\"COUNTRY_NAME\":\"United States\",\"DAY\":\"Wednesday\",\"CLICK_SOURCE\":\"ORGANIC\",\"PPC_TYPE\":\"Google\"},{\"QUANTITY\":6,\"PRODUCT_NAME\":\"teaching hands clock\",\"TOT_PRICE\":198,\"PRICE\":33,\"DEVICE\":\"DESKTOP\",\"COUNTRY_NAME\":\"United States\",\"DAY\":\"Tuesday\",\"CLICK_SOURCE\":\"ORGANIC\",\"PPC_TYPE\":\"Google\"},{\"QUANTITY\":1,\"PRODUCT_NAME\":\"textured tangle jr.\",\"TOT_PRICE\":4,\"PRICE\":4,\"DEVICE\":\"DESKTOP\",\"COUNTRY_NAME\":\"United States\",\"DAY\":\"Tuesday\",\"CLICK_SOURCE\":\"PPC\",\"PPC_TYPE\":\"Google\"},{\"QUANTITY\":5,\"PRODUCT_NAME\":\"the crossover grip\",\"TOT_PRICE\":35,\"PRICE\":7,\"DEVICE\":\"DESKTOP\",\"COUNTRY_NAME\":\"United States\",\"DAY\":\"Friday\",\"CLICK_SOURCE\":\"ORGANIC\",\"PPC_TYPE\":\"Google\"},{\"QUANTITY\":1,\"PRODUCT_NAME\":\"the fidget widget\",\"TOT_PRICE\":6,\"PRICE\":6,\"DEVICE\":\"DESKTOP\",\"COUNTRY_NAME\":\"United States\",\"DAY\":\"Tuesday\",\"CLICK_SOURCE\":\"PPC\",\"PPC_TYPE\":\"Google\"},{\"QUANTITY\":5,\"PRODUCT_NAME\":\"the grotto grip pencil grasp trainer\",\"TOT_PRICE\":25,\"PRICE\":5,\"DEVICE\":\"DESKTOP\",\"COUNTRY_NAME\":\"United States\",\"DAY\":\"Friday\",\"CLICK_SOURCE\":\"ORGANIC\",\"PPC_TYPE\":\"Google\"},{\"QUANTITY\":4,\"PRODUCT_NAME\":\"the grotto grip pencil grasp trainer\",\"TOT_PRICE\":20,\"PRICE\":5,\"DEVICE\":\"MOBILE\",\"COUNTRY_NAME\":\"United States\",\"DAY\":\"Sunday\",\"CLICK_SOURCE\":\"ORGANIC\",\"PPC_TYPE\":\"Google\"},{\"QUANTITY\":9,\"PRODUCT_NAME\":\"the heavyweight pencil\",\"TOT_PRICE\":189,\"PRICE\":21,\"DEVICE\":\"DESKTOP\",\"COUNTRY_NAME\":\"United States\",\"DAY\":\"Thursday\",\"CLICK_SOURCE\":\"ORGANIC\",\"PPC_TYPE\":\"Google\"},{\"QUANTITY\":10,\"PRODUCT_NAME\":\"the miracle belt\",\"TOT_PRICE\":800,\"PRICE\":80,\"DEVICE\":\"MOBILE\",\"COUNTRY_NAME\":\"United States\",\"DAY\":\"Wednesday\",\"CLICK_SOURCE\":\"ORGANIC\",\"PPC_TYPE\":\"Google\"},{\"QUANTITY\":8,\"PRODUCT_NAME\":\"the sqoodle\\\\u2122 pool noodle\",\"TOT_PRICE\":128,\"PRICE\":16,\"DEVICE\":\"DESKTOP\",\"COUNTRY_NAME\":\"United States\",\"DAY\":\"Thursday\",\"CLICK_SOURCE\":\"ORGANIC\",\"PPC_TYPE\":\"Google\"},{\"QUANTITY\":10,\"PRODUCT_NAME\":\"the writing c.l.a.w.\",\"TOT_PRICE\":20,\"PRICE\":2,\"DEVICE\":\"DESKTOP\",\"COUNTRY_NAME\":\"United States\",\"DAY\":\"Friday\",\"CLICK_SOURCE\":\"ORGANIC\",\"PPC_TYPE\":\"Google\"},{\"QUANTITY\":9,\"PRODUCT_NAME\":\"therapy brush\",\"TOT_PRICE\":18,\"PRICE\":2,\"DEVICE\":\"DESKTOP\",\"COUNTRY_NAME\":\"United States\",\"DAY\":\"Thursday\",\"CLICK_SOURCE\":\"ORGANIC\",\"PPC_TYPE\":\"Google\"},{\"QUANTITY\":15,\"PRODUCT_NAME\":\"theratogs ultra full body system\",\"TOT_PRICE\":9970,\"PRICE\":691,\"DEVICE\":\"DESKTOP\",\"COUNTRY_NAME\":\"Argentina\",\"DAY\":\"Friday\",\"CLICK_SOURCE\":\"ORGANIC\",\"PPC_TYPE\":\"Google\"},{\"QUANTITY\":10,\"PRODUCT_NAME\":\"tilt-n-space shower chair\",\"TOT_PRICE\":5150,\"PRICE\":515,\"DEVICE\":\"DESKTOP\",\"COUNTRY_NAME\":\"United States\",\"DAY\":\"Thursday\",\"CLICK_SOURCE\":\"ORGANIC\",\"PPC_TYPE\":\"Bing\"},{\"QUANTITY\":4,\"PRODUCT_NAME\":\"time timer desktop app\",\"TOT_PRICE\":68,\"PRICE\":17,\"DEVICE\":\"DESKTOP\",\"COUNTRY_NAME\":\"United States\",\"DAY\":\"Friday\",\"CLICK_SOURCE\":\"ORGANIC\",\"PPC_TYPE\":\"Google\"},{\"QUANTITY\":10,\"PRODUCT_NAME\":\"tranquility topliner booster contour pads\",\"TOT_PRICE\":510,\"PRICE\":51,\"DEVICE\":\"MOBILE\",\"COUNTRY_NAME\":\"United States\",\"DAY\":\"Saturday\",\"CLICK_SOURCE\":\"PPC\",\"PPC_TYPE\":null},{\"QUANTITY\":6,\"PRODUCT_NAME\":\"tranquility\\\\u00ae slimline fitted briefs\",\"TOT_PRICE\":396,\"PRICE\":66,\"DEVICE\":\"DESKTOP\",\"COUNTRY_NAME\":\"United States\",\"DAY\":\"Sunday\",\"CLICK_SOURCE\":\"ORGANIC\",\"PPC_TYPE\":\"Yahoo\"},{\"QUANTITY\":10,\"PRODUCT_NAME\":\"tranquility\\\\u00ae slimline fitted briefs\",\"TOT_PRICE\":660,\"PRICE\":66,\"DEVICE\":\"MOBILE\",\"COUNTRY_NAME\":\"United States\",\"DAY\":\"Saturday\",\"CLICK_SOURCE\":\"PPC\",\"PPC_TYPE\":null},{\"QUANTITY\":44,\"PRODUCT_NAME\":\"tranquility\\\\u00ae slimline fitted briefs\",\"TOT_PRICE\":2772,\"PRICE\":63,\"DEVICE\":\"MOBILE\",\"COUNTRY_NAME\":\"United States\",\"DAY\":\"Sunday\",\"CLICK_SOURCE\":\"ORGANIC\",\"PPC_TYPE\":\"Google\"},{\"QUANTITY\":4,\"PRODUCT_NAME\":\"tropical fish solar effect wheels\",\"TOT_PRICE\":316,\"PRICE\":79,\"DEVICE\":\"DESKTOP\",\"COUNTRY_NAME\":\"United States\",\"DAY\":\"Wednesday\",\"CLICK_SOURCE\":\"ORGANIC\",\"PPC_TYPE\":\"Bing\"},{\"QUANTITY\":36,\"PRODUCT_NAME\":\"tumble forms 2 wedges\",\"TOT_PRICE\":11475,\"PRICE\":258,\"DEVICE\":\"DESKTOP\",\"COUNTRY_NAME\":\"United States\",\"DAY\":\"Thursday\",\"CLICK_SOURCE\":\"ORGANIC\",\"PPC_TYPE\":\"Google\"},{\"QUANTITY\":1,\"PRODUCT_NAME\":\"tumble forms 2 weighted blanket\",\"TOT_PRICE\":157,\"PRICE\":157,\"DEVICE\":\"DESKTOP\",\"COUNTRY_NAME\":\"United States\",\"DAY\":\"Monday\",\"CLICK_SOURCE\":\"PPC\",\"PPC_TYPE\":\"Google\"},{\"QUANTITY\":17,\"PRODUCT_NAME\":\"universal feeding cuff\",\"TOT_PRICE\":136,\"PRICE\":8,\"DEVICE\":\"DESKTOP\",\"COUNTRY_NAME\":\"United States\",\"DAY\":\"Sunday\",\"CLICK_SOURCE\":\"ORGANIC\",\"PPC_TYPE\":\"Bing\"},{\"QUANTITY\":14,\"PRODUCT_NAME\":\"utensil hand clip\",\"TOT_PRICE\":140,\"PRICE\":10,\"DEVICE\":\"DESKTOP\",\"COUNTRY_NAME\":\"United States\",\"DAY\":\"Saturday\",\"CLICK_SOURCE\":\"ORGANIC\",\"PPC_TYPE\":\"Bing\"},{\"QUANTITY\":8,\"PRODUCT_NAME\":\"vibraflex massager\",\"TOT_PRICE\":200,\"PRICE\":25,\"DEVICE\":\"MOBILE\",\"COUNTRY_NAME\":\"United States\",\"DAY\":\"Wednesday\",\"CLICK_SOURCE\":\"ORGANIC\",\"PPC_TYPE\":\"Google\"},{\"QUANTITY\":3,\"PRODUCT_NAME\":\"visionboard2 white keyboard\",\"TOT_PRICE\":165,\"PRICE\":55,\"DEVICE\":\"DESKTOP\",\"COUNTRY_NAME\":\"United States\",\"DAY\":\"Friday\",\"CLICK_SOURCE\":\"ORGANIC\",\"PPC_TYPE\":\"Google\"},{\"QUANTITY\":3,\"PRODUCT_NAME\":\"walkeasy forearm crutches\",\"TOT_PRICE\":300,\"PRICE\":100,\"DEVICE\":\"MOBILE\",\"COUNTRY_NAME\":\"United States\",\"DAY\":\"Thursday\",\"CLICK_SOURCE\":\"ORGANIC\",\"PPC_TYPE\":\"Google\"},{\"QUANTITY\":32,\"PRODUCT_NAME\":\"warmies cozy plush husky\",\"TOT_PRICE\":544,\"PRICE\":17,\"DEVICE\":\"MOBILE\",\"COUNTRY_NAME\":\"United States\",\"DAY\":\"Friday\",\"CLICK_SOURCE\":\"ORGANIC\",\"PPC_TYPE\":\"Google\"},{\"QUANTITY\":32,\"PRODUCT_NAME\":\"warmies cozy plush monkey\",\"TOT_PRICE\":544,\"PRICE\":17,\"DEVICE\":\"MOBILE\",\"COUNTRY_NAME\":\"United States\",\"DAY\":\"Friday\",\"CLICK_SOURCE\":\"ORGANIC\",\"PPC_TYPE\":\"Google\"},{\"QUANTITY\":32,\"PRODUCT_NAME\":\"warmies cozy plush snow leopard\",\"TOT_PRICE\":544,\"PRICE\":17,\"DEVICE\":\"MOBILE\",\"COUNTRY_NAME\":\"United States\",\"DAY\":\"Friday\",\"CLICK_SOURCE\":\"ORGANIC\",\"PPC_TYPE\":\"Google\"},{\"QUANTITY\":2,\"PRODUCT_NAME\":\"yogibo midi\",\"TOT_PRICE\":418,\"PRICE\":209,\"DEVICE\":\"DESKTOP\",\"COUNTRY_NAME\":\"United States\",\"DAY\":\"Sunday\",\"CLICK_SOURCE\":\"ORGANIC\",\"PPC_TYPE\":\"Bing\"},{\"QUANTITY\":1,\"PRODUCT_NAME\":\"youth pull-on swim diaper\",\"TOT_PRICE\":19,\"PRICE\":19,\"DEVICE\":\"DESKTOP\",\"COUNTRY_NAME\":\"Norway\",\"DAY\":\"Tuesday\",\"CLICK_SOURCE\":\"ORGANIC\",\"PPC_TYPE\":\"Facebook\"},{\"QUANTITY\":4,\"PRODUCT_NAME\":\"youth pull-on swim diaper\",\"TOT_PRICE\":76,\"PRICE\":19,\"DEVICE\":\"DESKTOP\",\"COUNTRY_NAME\":\"United States\",\"DAY\":\"Sunday\",\"CLICK_SOURCE\":\"ORGANIC\",\"PPC_TYPE\":\"Google\"},{\"QUANTITY\":6,\"PRODUCT_NAME\":\"youth pull-on swim diaper\",\"TOT_PRICE\":114,\"PRICE\":19,\"DEVICE\":\"MOBILE\",\"COUNTRY_NAME\":\"United States\",\"DAY\":\"Thursday\",\"CLICK_SOURCE\":\"ORGANIC\",\"PPC_TYPE\":\"Google\"}]'"
      ]
     },
     "execution_count": 31,
     "metadata": {},
     "output_type": "execute_result"
    }
   ],
   "source": [
    "records"
   ]
  },
  {
   "cell_type": "code",
   "execution_count": null,
   "metadata": {},
   "outputs": [],
   "source": []
  }
 ],
 "metadata": {
  "kernelspec": {
   "display_name": "Python 3",
   "language": "python",
   "name": "python3"
  },
  "language_info": {
   "codemirror_mode": {
    "name": "ipython",
    "version": 3
   },
   "file_extension": ".py",
   "mimetype": "text/x-python",
   "name": "python",
   "nbconvert_exporter": "python",
   "pygments_lexer": "ipython3",
   "version": "3.6.4"
  }
 },
 "nbformat": 4,
 "nbformat_minor": 2
}
